{
 "cells": [
  {
   "cell_type": "code",
   "execution_count": null,
   "id": "c7f1b625",
   "metadata": {},
   "outputs": [],
   "source": [
    "import numpy as np\n",
    "import sklearn.preprocessing as preprocess\n",
    "from scipy.stats import randint"
   ]
  },
  {
   "cell_type": "markdown",
   "id": "1cdd77f2",
   "metadata": {},
   "source": [
    "## Randomized coordinate descent"
   ]
  },
  {
   "cell_type": "markdown",
   "id": "3983d158",
   "metadata": {},
   "source": [
    "### Linear system"
   ]
  },
  {
   "cell_type": "code",
   "execution_count": null,
   "id": "7b376f5a",
   "metadata": {},
   "outputs": [],
   "source": [
    "# m, n are not equal\n",
    "m = 30\n",
    "n = 50\n",
    "mu = 0\n",
    "sigma = 1\n",
    "\n",
    "np.random.seed(1)\n",
    "A = np.random.normal(mu, sigma, [m,n]) # A is m*n\n",
    "A = preprocess.normalize(A,axis=1) # normalize each row of A\n",
    "b = A @ np.ones(n)"
   ]
  },
  {
   "cell_type": "code",
   "execution_count": null,
   "id": "a5fed13e",
   "metadata": {},
   "outputs": [],
   "source": [
    "w, v = np.linalg.eig(A@A.T)\n",
    "sigma1 = min(w)\n",
    "L1 = max(w)\n",
    "print(sigma1)\n",
    "print(L1)"
   ]
  },
  {
   "cell_type": "code",
   "execution_count": null,
   "id": "69c13606",
   "metadata": {},
   "outputs": [],
   "source": [
    "epsilon = 1e-10\n",
    "error_list = []\n",
    "k_list = []\n",
    "np.random.seed(1)\n",
    "    \n",
    "for i in range(100):\n",
    "    x = np.random.normal(size = m)\n",
    "    k = 0\n",
    "    while 1>0:\n",
    "        index = randint.rvs(0, m)\n",
    "        d = np.zeros(m)\n",
    "        d[index] = (A@A.T@x-b)[index]\n",
    "        if np.linalg.norm(d/L1) < epsilon:\n",
    "            break\n",
    "        x = x-(1/L1)*d\n",
    "        k = k+1\n",
    "    w = A.T@x\n",
    "    error_list.append(np.linalg.norm(A@w-b)) # error\n",
    "    k_list.append(k) # iteration number\n",
    "    #print(np.linalg.norm(A@w-b), k)\n"
   ]
  },
  {
   "cell_type": "code",
   "execution_count": null,
   "id": "71b42f91",
   "metadata": {},
   "outputs": [],
   "source": [
    "print(np.mean(error_list))\n",
    "print(np.std(error_list))\n",
    "print(np.mean(k_list))\n",
    "print(np.std(k_list))\n",
    "#w = A.T@x\n",
    "#np.linalg.norm(A@w-b),k # error and iteration numbers"
   ]
  },
  {
   "cell_type": "markdown",
   "id": "39dda4b2",
   "metadata": {},
   "source": [
    "### Convex function"
   ]
  },
  {
   "cell_type": "code",
   "execution_count": null,
   "id": "a6a2b536",
   "metadata": {},
   "outputs": [],
   "source": [
    "mu = 0\n",
    "sigma = 1\n",
    "error_list = []\n",
    "k_list = []\n",
    "epsilon = 1e-10\n",
    "\n",
    "N = 500\n",
    "p = 100\n",
    "np.random.seed(124)\n",
    "X = np.random.normal(mu, sigma, [N,p]) # X is N*p\n",
    "#X = preprocess.normalize(A,axis=1) # normalize each row of A\n",
    "Y = X @ np.ones(p)\n",
    "\n",
    "w, v = np.linalg.eig(X.T@X)\n",
    "sigma2 = min(w)\n",
    "L2 = max(w)\n",
    "print(sigma2)\n",
    "print(L2)\n",
    "\n",
    "for i in range(100):\n",
    "    c = np.random.normal(size = p)\n",
    "    k = 0\n",
    "    while 1>0:\n",
    "        index = randint.rvs(0, p)\n",
    "        d = np.zeros(p)\n",
    "        d[index] = (X.T@X@c-X.T@Y)[index]\n",
    "        if np.linalg.norm(d/L2) < epsilon:\n",
    "            break\n",
    "        c = c-(1/L2)*d\n",
    "        k = k+1\n",
    "    error_list.append(np.linalg.norm(X@c-Y)) # error\n",
    "    k_list.append(k) # iteration number\n",
    "    #print(np.linalg.norm(X@c-Y),k)"
   ]
  },
  {
   "cell_type": "code",
   "execution_count": null,
   "id": "02b231ed",
   "metadata": {},
   "outputs": [],
   "source": [
    "print(np.mean(error_list))\n",
    "print(np.std(error_list))\n",
    "print(np.mean(k_list))\n",
    "print(np.std(k_list))"
   ]
  },
  {
   "cell_type": "markdown",
   "id": "cfb2180c",
   "metadata": {},
   "source": [
    "## Accelerated randomized coordinate descent"
   ]
  },
  {
   "cell_type": "markdown",
   "id": "cf447812",
   "metadata": {},
   "source": [
    "### Linear system"
   ]
  },
  {
   "cell_type": "code",
   "execution_count": null,
   "id": "fed5aaf9",
   "metadata": {},
   "outputs": [],
   "source": [
    "# set up\n",
    "epsilon = 1e-10\n",
    "error_list = []\n",
    "k_list = []\n",
    "np.random.seed(2)\n",
    "\n",
    "for i in range(100):\n",
    "    x = v = np.random.normal(size = m)\n",
    "    k = 0\n",
    "    r = 0\n",
    "    while 1>0:\n",
    "        r = ((1-sigma1*r**2)/n+np.sqrt(((1-sigma1*r**2)/n)**2+4*r**2))/2\n",
    "        alpha = (n-r*sigma1)/(r*(n**2-sigma1))\n",
    "        beta = 1-r*sigma1/n\n",
    "        y = alpha*v+(1-alpha)*x\n",
    "        index = randint.rvs(0, m)\n",
    "        d = np.zeros(m)\n",
    "        d[index] = (A@A.T@y-b)[index]\n",
    "        if np.linalg.norm(y-(1/L1)*d-x) < epsilon:\n",
    "            break\n",
    "        x = y-(1/L1)*d\n",
    "        v = beta*v+(1-beta)*y-(r/L1)*d\n",
    "        k = k+1\n",
    "    w = A.T@x\n",
    "    error_list.append(np.linalg.norm(A@w-b))\n",
    "    k_list.append(k)\n",
    "    #print(np.linalg.norm(A@w-b), k)\n"
   ]
  },
  {
   "cell_type": "code",
   "execution_count": null,
   "id": "57a2274f",
   "metadata": {},
   "outputs": [],
   "source": [
    "print(np.mean(error_list))\n",
    "print(np.std(error_list))\n",
    "print(np.mean(k_list))\n",
    "print(np.std(k_list))\n",
    "#w = A.T@x\n",
    "#np.linalg.norm(w-np.ones(n)),k"
   ]
  },
  {
   "cell_type": "markdown",
   "id": "5c084b6f",
   "metadata": {},
   "source": [
    "### Convex function"
   ]
  },
  {
   "cell_type": "code",
   "execution_count": null,
   "id": "045114f7",
   "metadata": {},
   "outputs": [],
   "source": [
    "# set up\n",
    "epsilon = 1e-10\n",
    "error_list = []\n",
    "k_list = []\n",
    "\n",
    "for i in range(100):\n",
    "    x = v = np.random.normal(size = p)\n",
    "    k = 0\n",
    "    r = 0\n",
    "    while 1>0:\n",
    "        r = ((1-sigma2*r**2)/p+np.sqrt(((1-sigma2*r**2)/n)**2+4*r**2))/2\n",
    "        alpha = (p-r*sigma2)/(r*(p**2-sigma2))\n",
    "        beta = 1-r*sigma2/p\n",
    "        y = alpha*v+(1-alpha)*x\n",
    "        index = randint.rvs(0, p)\n",
    "        d = np.zeros(p)\n",
    "        d[index] = (X.T@X@y-X.T@Y)[index]\n",
    "        if np.linalg.norm(y-(1/L2)*d-x) < epsilon:\n",
    "            break\n",
    "        x = y-(1/L2)*d\n",
    "        v = beta*v+(1-beta)*y-(r/L2)*d\n",
    "        k = k+1\n",
    "    error_list.append(np.linalg.norm(X@x-Y))\n",
    "    k_list.append(k)\n",
    "    #print(np.linalg.norm(X@x-Y),k)"
   ]
  },
  {
   "cell_type": "code",
   "execution_count": null,
   "id": "5a6d2d49",
   "metadata": {},
   "outputs": [],
   "source": [
    "print(np.mean(error_list))\n",
    "print(np.std(error_list))\n",
    "print(np.mean(k_list))\n",
    "print(np.std(k_list))"
   ]
  }
 ],
 "metadata": {
  "kernelspec": {
   "display_name": "Python 3",
   "language": "python",
   "name": "python3"
  },
  "language_info": {
   "codemirror_mode": {
    "name": "ipython",
    "version": 3
   },
   "file_extension": ".py",
   "mimetype": "text/x-python",
   "name": "python",
   "nbconvert_exporter": "python",
   "pygments_lexer": "ipython3",
   "version": "3.8.8"
  }
 },
 "nbformat": 4,
 "nbformat_minor": 5
}
